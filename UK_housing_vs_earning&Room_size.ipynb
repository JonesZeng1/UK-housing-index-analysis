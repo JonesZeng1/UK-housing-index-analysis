{
 "cells": [
  {
   "cell_type": "markdown",
   "id": "dd8033ce",
   "metadata": {},
   "source": [
    "## UK housing price vs earning analysis"
   ]
  },
  {
   "cell_type": "markdown",
   "id": "22e57f13",
   "metadata": {},
   "source": [
    "###  Sources:\n",
    "Office for National Statistics, Land Registry, Office for National Statistics - Annual Survey of Hours and Earnings"
   ]
  },
  {
   "cell_type": "markdown",
   "id": "6c2e8f8f",
   "metadata": {},
   "source": [
    "Affordability ratios calculated by dividing house prices for existing dwellings, by gross annual workplace-based earnings. Based on the median and lower quartiles of both house prices and earnings in England and Wales."
   ]
  },
  {
   "cell_type": "markdown",
   "id": "213f9188",
   "metadata": {},
   "source": [
    "### 0. Import Data"
   ]
  },
  {
   "cell_type": "code",
   "execution_count": 1,
   "id": "e4df7730",
   "metadata": {},
   "outputs": [],
   "source": [
    "# 0. Imports\n",
    "import numpy as np ## Linear algebra\n",
    "import pandas as pd ## Dataframe processing\n",
    "import matplotlib.pyplot as plt ## Data Visualisation\n",
    "from sklearn.linear_model import LinearRegression"
   ]
  },
  {
   "cell_type": "markdown",
   "id": "c8c8cbb4",
   "metadata": {},
   "source": [
    "### 1. Read Data"
   ]
  },
  {
   "cell_type": "code",
   "execution_count": 2,
   "id": "fb9767e6",
   "metadata": {
    "scrolled": true
   },
   "outputs": [],
   "source": [
    "# 1. Read data from housing.data\n",
    "# get the names from name.data\n",
    "UK_dataset = pd.read_csv(\"housing.data\", header=None, delimiter=r\"\\s+\",names=column_names)"
   ]
  },
  {
   "cell_type": "markdown",
   "id": "368304a9",
   "metadata": {},
   "source": [
    "### 2. Examing the data"
   ]
  },
  {
   "cell_type": "code",
   "execution_count": 3,
   "id": "d7e3f1e6",
   "metadata": {
    "scrolled": false
   },
   "outputs": [
    {
     "data": {
      "text/html": [
       "<div>\n",
       "<style scoped>\n",
       "    .dataframe tbody tr th:only-of-type {\n",
       "        vertical-align: middle;\n",
       "    }\n",
       "\n",
       "    .dataframe tbody tr th {\n",
       "        vertical-align: top;\n",
       "    }\n",
       "\n",
       "    .dataframe thead th {\n",
       "        text-align: right;\n",
       "    }\n",
       "</style>\n",
       "<table border=\"1\" class=\"dataframe\">\n",
       "  <thead>\n",
       "    <tr style=\"text-align: right;\">\n",
       "      <th></th>\n",
       "      <th>CRIM</th>\n",
       "      <th>ZN</th>\n",
       "      <th>INDUS</th>\n",
       "      <th>CHAS</th>\n",
       "      <th>NOX</th>\n",
       "      <th>RM</th>\n",
       "      <th>AGE</th>\n",
       "      <th>DIS</th>\n",
       "      <th>RAD</th>\n",
       "      <th>TAX</th>\n",
       "      <th>PTRATIO</th>\n",
       "      <th>B</th>\n",
       "      <th>LSTAT</th>\n",
       "      <th>MEDV</th>\n",
       "    </tr>\n",
       "  </thead>\n",
       "  <tbody>\n",
       "    <tr>\n",
       "      <th>0</th>\n",
       "      <td>0.00632</td>\n",
       "      <td>18.0</td>\n",
       "      <td>2.31</td>\n",
       "      <td>0</td>\n",
       "      <td>0.538</td>\n",
       "      <td>6.575</td>\n",
       "      <td>65.2</td>\n",
       "      <td>4.0900</td>\n",
       "      <td>1</td>\n",
       "      <td>296.0</td>\n",
       "      <td>15.3</td>\n",
       "      <td>396.90</td>\n",
       "      <td>4.98</td>\n",
       "      <td>24.0</td>\n",
       "    </tr>\n",
       "    <tr>\n",
       "      <th>1</th>\n",
       "      <td>0.02731</td>\n",
       "      <td>0.0</td>\n",
       "      <td>7.07</td>\n",
       "      <td>0</td>\n",
       "      <td>0.469</td>\n",
       "      <td>6.421</td>\n",
       "      <td>78.9</td>\n",
       "      <td>4.9671</td>\n",
       "      <td>2</td>\n",
       "      <td>242.0</td>\n",
       "      <td>17.8</td>\n",
       "      <td>396.90</td>\n",
       "      <td>9.14</td>\n",
       "      <td>21.6</td>\n",
       "    </tr>\n",
       "    <tr>\n",
       "      <th>2</th>\n",
       "      <td>0.02729</td>\n",
       "      <td>0.0</td>\n",
       "      <td>7.07</td>\n",
       "      <td>0</td>\n",
       "      <td>0.469</td>\n",
       "      <td>7.185</td>\n",
       "      <td>61.1</td>\n",
       "      <td>4.9671</td>\n",
       "      <td>2</td>\n",
       "      <td>242.0</td>\n",
       "      <td>17.8</td>\n",
       "      <td>392.83</td>\n",
       "      <td>4.03</td>\n",
       "      <td>34.7</td>\n",
       "    </tr>\n",
       "    <tr>\n",
       "      <th>3</th>\n",
       "      <td>0.03237</td>\n",
       "      <td>0.0</td>\n",
       "      <td>2.18</td>\n",
       "      <td>0</td>\n",
       "      <td>0.458</td>\n",
       "      <td>6.998</td>\n",
       "      <td>45.8</td>\n",
       "      <td>6.0622</td>\n",
       "      <td>3</td>\n",
       "      <td>222.0</td>\n",
       "      <td>18.7</td>\n",
       "      <td>394.63</td>\n",
       "      <td>2.94</td>\n",
       "      <td>33.4</td>\n",
       "    </tr>\n",
       "    <tr>\n",
       "      <th>4</th>\n",
       "      <td>0.06905</td>\n",
       "      <td>0.0</td>\n",
       "      <td>2.18</td>\n",
       "      <td>0</td>\n",
       "      <td>0.458</td>\n",
       "      <td>7.147</td>\n",
       "      <td>54.2</td>\n",
       "      <td>6.0622</td>\n",
       "      <td>3</td>\n",
       "      <td>222.0</td>\n",
       "      <td>18.7</td>\n",
       "      <td>396.90</td>\n",
       "      <td>5.33</td>\n",
       "      <td>36.2</td>\n",
       "    </tr>\n",
       "  </tbody>\n",
       "</table>\n",
       "</div>"
      ],
      "text/plain": [
       "      CRIM    ZN  INDUS  CHAS    NOX     RM   AGE     DIS  RAD    TAX  \\\n",
       "0  0.00632  18.0   2.31     0  0.538  6.575  65.2  4.0900    1  296.0   \n",
       "1  0.02731   0.0   7.07     0  0.469  6.421  78.9  4.9671    2  242.0   \n",
       "2  0.02729   0.0   7.07     0  0.469  7.185  61.1  4.9671    2  242.0   \n",
       "3  0.03237   0.0   2.18     0  0.458  6.998  45.8  6.0622    3  222.0   \n",
       "4  0.06905   0.0   2.18     0  0.458  7.147  54.2  6.0622    3  222.0   \n",
       "\n",
       "   PTRATIO       B  LSTAT  MEDV  \n",
       "0     15.3  396.90   4.98  24.0  \n",
       "1     17.8  396.90   9.14  21.6  \n",
       "2     17.8  392.83   4.03  34.7  \n",
       "3     18.7  394.63   2.94  33.4  \n",
       "4     18.7  396.90   5.33  36.2  "
      ]
     },
     "execution_count": 3,
     "metadata": {},
     "output_type": "execute_result"
    }
   ],
   "source": [
    "UK_dataset.head()"
   ]
  },
  {
   "cell_type": "code",
   "execution_count": 4,
   "id": "676e2dd1",
   "metadata": {},
   "outputs": [
    {
     "data": {
      "text/plain": [
       "(506, 14)"
      ]
     },
     "execution_count": 4,
     "metadata": {},
     "output_type": "execute_result"
    }
   ],
   "source": [
    "np.shape(UK_dataset)"
   ]
  },
  {
   "cell_type": "code",
   "execution_count": 5,
   "id": "48bf1f04",
   "metadata": {
    "collapsed": true
   },
   "outputs": [
    {
     "name": "stdout",
     "output_type": "stream",
     "text": [
      "             CRIM          ZN       INDUS        CHAS         NOX          RM  \\\n",
      "count  506.000000  506.000000  506.000000  506.000000  506.000000  506.000000   \n",
      "mean     3.613524   11.363636   11.136779    0.069170    0.554695    6.284634   \n",
      "std      8.601545   23.322453    6.860353    0.253994    0.115878    0.702617   \n",
      "min      0.006320    0.000000    0.460000    0.000000    0.385000    3.561000   \n",
      "25%      0.082045    0.000000    5.190000    0.000000    0.449000    5.885500   \n",
      "50%      0.256510    0.000000    9.690000    0.000000    0.538000    6.208500   \n",
      "75%      3.677083   12.500000   18.100000    0.000000    0.624000    6.623500   \n",
      "max     88.976200  100.000000   27.740000    1.000000    0.871000    8.780000   \n",
      "\n",
      "              AGE         DIS         RAD         TAX     PTRATIO           B  \\\n",
      "count  506.000000  506.000000  506.000000  506.000000  506.000000  506.000000   \n",
      "mean    68.574901    3.795043    9.549407  408.237154   18.455534  356.674032   \n",
      "std     28.148861    2.105710    8.707259  168.537116    2.164946   91.294864   \n",
      "min      2.900000    1.129600    1.000000  187.000000   12.600000    0.320000   \n",
      "25%     45.025000    2.100175    4.000000  279.000000   17.400000  375.377500   \n",
      "50%     77.500000    3.207450    5.000000  330.000000   19.050000  391.440000   \n",
      "75%     94.075000    5.188425   24.000000  666.000000   20.200000  396.225000   \n",
      "max    100.000000   12.126500   24.000000  711.000000   22.000000  396.900000   \n",
      "\n",
      "            LSTAT        MEDV  \n",
      "count  506.000000  506.000000  \n",
      "mean    12.653063   22.532806  \n",
      "std      7.141062    9.197104  \n",
      "min      1.730000    5.000000  \n",
      "25%      6.950000   17.025000  \n",
      "50%     11.360000   21.200000  \n",
      "75%     16.955000   25.000000  \n",
      "max     37.970000   50.000000  \n"
     ]
    }
   ],
   "source": [
    "print(UK_dataset.describe())"
   ]
  },
  {
   "cell_type": "markdown",
   "id": "bae023aa",
   "metadata": {},
   "source": [
    "### 3. Data Pre-processing(&Cleansing)"
   ]
  },
  {
   "cell_type": "code",
   "execution_count": 6,
   "id": "c9d664e6",
   "metadata": {},
   "outputs": [],
   "source": [
    "## Training-set(including target) assignment\n",
    "X = UK_dataset.RM\n",
    "Y = UK_dataset.MEDV"
   ]
  },
  {
   "cell_type": "markdown",
   "id": "f08b7a2d",
   "metadata": {},
   "source": [
    "#### Same as above, here RM stands for average number of rooms per dwelling whereas MEDV stands for Medium Value(Housing Price)"
   ]
  },
  {
   "cell_type": "code",
   "execution_count": 7,
   "id": "4f80d637",
   "metadata": {
    "scrolled": true
   },
   "outputs": [
    {
     "data": {
      "text/plain": [
       "0      6.575\n",
       "1      6.421\n",
       "2      7.185\n",
       "3      6.998\n",
       "4      7.147\n",
       "       ...  \n",
       "501    6.593\n",
       "502    6.120\n",
       "503    6.976\n",
       "504    6.794\n",
       "505    6.030\n",
       "Name: RM, Length: 506, dtype: float64"
      ]
     },
     "execution_count": 7,
     "metadata": {},
     "output_type": "execute_result"
    }
   ],
   "source": [
    "X"
   ]
  },
  {
   "cell_type": "code",
   "execution_count": 8,
   "id": "06ff8851",
   "metadata": {
    "scrolled": true
   },
   "outputs": [
    {
     "data": {
      "text/plain": [
       "0      24.0\n",
       "1      21.6\n",
       "2      34.7\n",
       "3      33.4\n",
       "4      36.2\n",
       "       ... \n",
       "501    22.4\n",
       "502    20.6\n",
       "503    23.9\n",
       "504    22.0\n",
       "505    11.9\n",
       "Name: MEDV, Length: 506, dtype: float64"
      ]
     },
     "execution_count": 8,
     "metadata": {},
     "output_type": "execute_result"
    }
   ],
   "source": [
    "Y"
   ]
  },
  {
   "cell_type": "code",
   "execution_count": 9,
   "id": "073a1c9d",
   "metadata": {
    "scrolled": false
   },
   "outputs": [
    {
     "name": "stderr",
     "output_type": "stream",
     "text": [
      "C:\\Users\\yanli\\AppData\\Local\\Temp/ipykernel_35448/1799810436.py:2: FutureWarning: Support for multi-dimensional indexing (e.g. `obj[:, None]`) is deprecated and will be removed in a future version.  Convert to a numpy array before indexing instead.\n",
      "  X = X[:,np.newaxis]\n"
     ]
    }
   ],
   "source": [
    "# diabetes_X = diabetes_X[:, np.newaxis, 2]\n",
    "X = X[:,np.newaxis]"
   ]
  },
  {
   "cell_type": "code",
   "execution_count": 10,
   "id": "30f742b7",
   "metadata": {
    "scrolled": true
   },
   "outputs": [
    {
     "data": {
      "text/plain": [
       "array([[6.575],\n",
       "       [6.421],\n",
       "       [7.185],\n",
       "       [6.998],\n",
       "       [7.147],\n",
       "       [6.43 ],\n",
       "       [6.012],\n",
       "       [6.172],\n",
       "       [5.631],\n",
       "       [6.004],\n",
       "       [6.377],\n",
       "       [6.009],\n",
       "       [5.889],\n",
       "       [5.949],\n",
       "       [6.096],\n",
       "       [5.834],\n",
       "       [5.935],\n",
       "       [5.99 ],\n",
       "       [5.456],\n",
       "       [5.727],\n",
       "       [5.57 ],\n",
       "       [5.965],\n",
       "       [6.142],\n",
       "       [5.813],\n",
       "       [5.924],\n",
       "       [5.599],\n",
       "       [5.813],\n",
       "       [6.047],\n",
       "       [6.495],\n",
       "       [6.674],\n",
       "       [5.713],\n",
       "       [6.072],\n",
       "       [5.95 ],\n",
       "       [5.701],\n",
       "       [6.096],\n",
       "       [5.933],\n",
       "       [5.841],\n",
       "       [5.85 ],\n",
       "       [5.966],\n",
       "       [6.595],\n",
       "       [7.024],\n",
       "       [6.77 ],\n",
       "       [6.169],\n",
       "       [6.211],\n",
       "       [6.069],\n",
       "       [5.682],\n",
       "       [5.786],\n",
       "       [6.03 ],\n",
       "       [5.399],\n",
       "       [5.602],\n",
       "       [5.963],\n",
       "       [6.115],\n",
       "       [6.511],\n",
       "       [5.998],\n",
       "       [5.888],\n",
       "       [7.249],\n",
       "       [6.383],\n",
       "       [6.816],\n",
       "       [6.145],\n",
       "       [5.927],\n",
       "       [5.741],\n",
       "       [5.966],\n",
       "       [6.456],\n",
       "       [6.762],\n",
       "       [7.104],\n",
       "       [6.29 ],\n",
       "       [5.787],\n",
       "       [5.878],\n",
       "       [5.594],\n",
       "       [5.885],\n",
       "       [6.417],\n",
       "       [5.961],\n",
       "       [6.065],\n",
       "       [6.245],\n",
       "       [6.273],\n",
       "       [6.286],\n",
       "       [6.279],\n",
       "       [6.14 ],\n",
       "       [6.232],\n",
       "       [5.874],\n",
       "       [6.727],\n",
       "       [6.619],\n",
       "       [6.302],\n",
       "       [6.167],\n",
       "       [6.389],\n",
       "       [6.63 ],\n",
       "       [6.015],\n",
       "       [6.121],\n",
       "       [7.007],\n",
       "       [7.079],\n",
       "       [6.417],\n",
       "       [6.405],\n",
       "       [6.442],\n",
       "       [6.211],\n",
       "       [6.249],\n",
       "       [6.625],\n",
       "       [6.163],\n",
       "       [8.069],\n",
       "       [7.82 ],\n",
       "       [7.416],\n",
       "       [6.727],\n",
       "       [6.781],\n",
       "       [6.405],\n",
       "       [6.137],\n",
       "       [6.167],\n",
       "       [5.851],\n",
       "       [5.836],\n",
       "       [6.127],\n",
       "       [6.474],\n",
       "       [6.229],\n",
       "       [6.195],\n",
       "       [6.715],\n",
       "       [5.913],\n",
       "       [6.092],\n",
       "       [6.254],\n",
       "       [5.928],\n",
       "       [6.176],\n",
       "       [6.021],\n",
       "       [5.872],\n",
       "       [5.731],\n",
       "       [5.87 ],\n",
       "       [6.004],\n",
       "       [5.961],\n",
       "       [5.856],\n",
       "       [5.879],\n",
       "       [5.986],\n",
       "       [5.613],\n",
       "       [5.693],\n",
       "       [6.431],\n",
       "       [5.637],\n",
       "       [6.458],\n",
       "       [6.326],\n",
       "       [6.372],\n",
       "       [5.822],\n",
       "       [5.757],\n",
       "       [6.335],\n",
       "       [5.942],\n",
       "       [6.454],\n",
       "       [5.857],\n",
       "       [6.151],\n",
       "       [6.174],\n",
       "       [5.019],\n",
       "       [5.403],\n",
       "       [5.468],\n",
       "       [4.903],\n",
       "       [6.13 ],\n",
       "       [5.628],\n",
       "       [4.926],\n",
       "       [5.186],\n",
       "       [5.597],\n",
       "       [6.122],\n",
       "       [5.404],\n",
       "       [5.012],\n",
       "       [5.709],\n",
       "       [6.129],\n",
       "       [6.152],\n",
       "       [5.272],\n",
       "       [6.943],\n",
       "       [6.066],\n",
       "       [6.51 ],\n",
       "       [6.25 ],\n",
       "       [7.489],\n",
       "       [7.802],\n",
       "       [8.375],\n",
       "       [5.854],\n",
       "       [6.101],\n",
       "       [7.929],\n",
       "       [5.877],\n",
       "       [6.319],\n",
       "       [6.402],\n",
       "       [5.875],\n",
       "       [5.88 ],\n",
       "       [5.572],\n",
       "       [6.416],\n",
       "       [5.859],\n",
       "       [6.546],\n",
       "       [6.02 ],\n",
       "       [6.315],\n",
       "       [6.86 ],\n",
       "       [6.98 ],\n",
       "       [7.765],\n",
       "       [6.144],\n",
       "       [7.155],\n",
       "       [6.563],\n",
       "       [5.604],\n",
       "       [6.153],\n",
       "       [7.831],\n",
       "       [6.782],\n",
       "       [6.556],\n",
       "       [7.185],\n",
       "       [6.951],\n",
       "       [6.739],\n",
       "       [7.178],\n",
       "       [6.8  ],\n",
       "       [6.604],\n",
       "       [7.875],\n",
       "       [7.287],\n",
       "       [7.107],\n",
       "       [7.274],\n",
       "       [6.975],\n",
       "       [7.135],\n",
       "       [6.162],\n",
       "       [7.61 ],\n",
       "       [7.853],\n",
       "       [8.034],\n",
       "       [5.891],\n",
       "       [6.326],\n",
       "       [5.783],\n",
       "       [6.064],\n",
       "       [5.344],\n",
       "       [5.96 ],\n",
       "       [5.404],\n",
       "       [5.807],\n",
       "       [6.375],\n",
       "       [5.412],\n",
       "       [6.182],\n",
       "       [5.888],\n",
       "       [6.642],\n",
       "       [5.951],\n",
       "       [6.373],\n",
       "       [6.951],\n",
       "       [6.164],\n",
       "       [6.879],\n",
       "       [6.618],\n",
       "       [8.266],\n",
       "       [8.725],\n",
       "       [8.04 ],\n",
       "       [7.163],\n",
       "       [7.686],\n",
       "       [6.552],\n",
       "       [5.981],\n",
       "       [7.412],\n",
       "       [8.337],\n",
       "       [8.247],\n",
       "       [6.726],\n",
       "       [6.086],\n",
       "       [6.631],\n",
       "       [7.358],\n",
       "       [6.481],\n",
       "       [6.606],\n",
       "       [6.897],\n",
       "       [6.095],\n",
       "       [6.358],\n",
       "       [6.393],\n",
       "       [5.593],\n",
       "       [5.605],\n",
       "       [6.108],\n",
       "       [6.226],\n",
       "       [6.433],\n",
       "       [6.718],\n",
       "       [6.487],\n",
       "       [6.438],\n",
       "       [6.957],\n",
       "       [8.259],\n",
       "       [6.108],\n",
       "       [5.876],\n",
       "       [7.454],\n",
       "       [8.704],\n",
       "       [7.333],\n",
       "       [6.842],\n",
       "       [7.203],\n",
       "       [7.52 ],\n",
       "       [8.398],\n",
       "       [7.327],\n",
       "       [7.206],\n",
       "       [5.56 ],\n",
       "       [7.014],\n",
       "       [8.297],\n",
       "       [7.47 ],\n",
       "       [5.92 ],\n",
       "       [5.856],\n",
       "       [6.24 ],\n",
       "       [6.538],\n",
       "       [7.691],\n",
       "       [6.758],\n",
       "       [6.854],\n",
       "       [7.267],\n",
       "       [6.826],\n",
       "       [6.482],\n",
       "       [6.812],\n",
       "       [7.82 ],\n",
       "       [6.968],\n",
       "       [7.645],\n",
       "       [7.923],\n",
       "       [7.088],\n",
       "       [6.453],\n",
       "       [6.23 ],\n",
       "       [6.209],\n",
       "       [6.315],\n",
       "       [6.565],\n",
       "       [6.861],\n",
       "       [7.148],\n",
       "       [6.63 ],\n",
       "       [6.127],\n",
       "       [6.009],\n",
       "       [6.678],\n",
       "       [6.549],\n",
       "       [5.79 ],\n",
       "       [6.345],\n",
       "       [7.041],\n",
       "       [6.871],\n",
       "       [6.59 ],\n",
       "       [6.495],\n",
       "       [6.982],\n",
       "       [7.236],\n",
       "       [6.616],\n",
       "       [7.42 ],\n",
       "       [6.849],\n",
       "       [6.635],\n",
       "       [5.972],\n",
       "       [4.973],\n",
       "       [6.122],\n",
       "       [6.023],\n",
       "       [6.266],\n",
       "       [6.567],\n",
       "       [5.705],\n",
       "       [5.914],\n",
       "       [5.782],\n",
       "       [6.382],\n",
       "       [6.113],\n",
       "       [6.426],\n",
       "       [6.376],\n",
       "       [6.041],\n",
       "       [5.708],\n",
       "       [6.415],\n",
       "       [6.431],\n",
       "       [6.312],\n",
       "       [6.083],\n",
       "       [5.868],\n",
       "       [6.333],\n",
       "       [6.144],\n",
       "       [5.706],\n",
       "       [6.031],\n",
       "       [6.316],\n",
       "       [6.31 ],\n",
       "       [6.037],\n",
       "       [5.869],\n",
       "       [5.895],\n",
       "       [6.059],\n",
       "       [5.985],\n",
       "       [5.968],\n",
       "       [7.241],\n",
       "       [6.54 ],\n",
       "       [6.696],\n",
       "       [6.874],\n",
       "       [6.014],\n",
       "       [5.898],\n",
       "       [6.516],\n",
       "       [6.635],\n",
       "       [6.939],\n",
       "       [6.49 ],\n",
       "       [6.579],\n",
       "       [5.884],\n",
       "       [6.728],\n",
       "       [5.663],\n",
       "       [5.936],\n",
       "       [6.212],\n",
       "       [6.395],\n",
       "       [6.127],\n",
       "       [6.112],\n",
       "       [6.398],\n",
       "       [6.251],\n",
       "       [5.362],\n",
       "       [5.803],\n",
       "       [8.78 ],\n",
       "       [3.561],\n",
       "       [4.963],\n",
       "       [3.863],\n",
       "       [4.97 ],\n",
       "       [6.683],\n",
       "       [7.016],\n",
       "       [6.216],\n",
       "       [5.875],\n",
       "       [4.906],\n",
       "       [4.138],\n",
       "       [7.313],\n",
       "       [6.649],\n",
       "       [6.794],\n",
       "       [6.38 ],\n",
       "       [6.223],\n",
       "       [6.968],\n",
       "       [6.545],\n",
       "       [5.536],\n",
       "       [5.52 ],\n",
       "       [4.368],\n",
       "       [5.277],\n",
       "       [4.652],\n",
       "       [5.   ],\n",
       "       [4.88 ],\n",
       "       [5.39 ],\n",
       "       [5.713],\n",
       "       [6.051],\n",
       "       [5.036],\n",
       "       [6.193],\n",
       "       [5.887],\n",
       "       [6.471],\n",
       "       [6.405],\n",
       "       [5.747],\n",
       "       [5.453],\n",
       "       [5.852],\n",
       "       [5.987],\n",
       "       [6.343],\n",
       "       [6.404],\n",
       "       [5.349],\n",
       "       [5.531],\n",
       "       [5.683],\n",
       "       [4.138],\n",
       "       [5.608],\n",
       "       [5.617],\n",
       "       [6.852],\n",
       "       [5.757],\n",
       "       [6.657],\n",
       "       [4.628],\n",
       "       [5.155],\n",
       "       [4.519],\n",
       "       [6.434],\n",
       "       [6.782],\n",
       "       [5.304],\n",
       "       [5.957],\n",
       "       [6.824],\n",
       "       [6.411],\n",
       "       [6.006],\n",
       "       [5.648],\n",
       "       [6.103],\n",
       "       [5.565],\n",
       "       [5.896],\n",
       "       [5.837],\n",
       "       [6.202],\n",
       "       [6.193],\n",
       "       [6.38 ],\n",
       "       [6.348],\n",
       "       [6.833],\n",
       "       [6.425],\n",
       "       [6.436],\n",
       "       [6.208],\n",
       "       [6.629],\n",
       "       [6.461],\n",
       "       [6.152],\n",
       "       [5.935],\n",
       "       [5.627],\n",
       "       [5.818],\n",
       "       [6.406],\n",
       "       [6.219],\n",
       "       [6.485],\n",
       "       [5.854],\n",
       "       [6.459],\n",
       "       [6.341],\n",
       "       [6.251],\n",
       "       [6.185],\n",
       "       [6.417],\n",
       "       [6.749],\n",
       "       [6.655],\n",
       "       [6.297],\n",
       "       [7.393],\n",
       "       [6.728],\n",
       "       [6.525],\n",
       "       [5.976],\n",
       "       [5.936],\n",
       "       [6.301],\n",
       "       [6.081],\n",
       "       [6.701],\n",
       "       [6.376],\n",
       "       [6.317],\n",
       "       [6.513],\n",
       "       [6.209],\n",
       "       [5.759],\n",
       "       [5.952],\n",
       "       [6.003],\n",
       "       [5.926],\n",
       "       [5.713],\n",
       "       [6.167],\n",
       "       [6.229],\n",
       "       [6.437],\n",
       "       [6.98 ],\n",
       "       [5.427],\n",
       "       [6.162],\n",
       "       [6.484],\n",
       "       [5.304],\n",
       "       [6.185],\n",
       "       [6.229],\n",
       "       [6.242],\n",
       "       [6.75 ],\n",
       "       [7.061],\n",
       "       [5.762],\n",
       "       [5.871],\n",
       "       [6.312],\n",
       "       [6.114],\n",
       "       [5.905],\n",
       "       [5.454],\n",
       "       [5.414],\n",
       "       [5.093],\n",
       "       [5.983],\n",
       "       [5.983],\n",
       "       [5.707],\n",
       "       [5.926],\n",
       "       [5.67 ],\n",
       "       [5.39 ],\n",
       "       [5.794],\n",
       "       [6.019],\n",
       "       [5.569],\n",
       "       [6.027],\n",
       "       [6.593],\n",
       "       [6.12 ],\n",
       "       [6.976],\n",
       "       [6.794],\n",
       "       [6.03 ]])"
      ]
     },
     "execution_count": 10,
     "metadata": {},
     "output_type": "execute_result"
    }
   ],
   "source": [
    "X"
   ]
  },
  {
   "cell_type": "markdown",
   "id": "423160e0",
   "metadata": {},
   "source": [
    "### 4. Fitting a Linear Model (using Keras)"
   ]
  },
  {
   "cell_type": "code",
   "execution_count": 11,
   "id": "b3f869e6",
   "metadata": {
    "scrolled": false
   },
   "outputs": [
    {
     "data": {
      "text/plain": [
       "<matplotlib.collections.PathCollection at 0x1c4dec94d90>"
      ]
     },
     "execution_count": 11,
     "metadata": {},
     "output_type": "execute_result"
    },
    {
     "data": {
      "image/png": "[encoded data removed]",
      "text/plain": [
       "<Figure size 432x288 with 1 Axes>"
      ]
     },
     "metadata": {
      "needs_background": "light"
     },
     "output_type": "display_data"
    }
   ],
   "source": [
    "# 3. Fit Linear Model\n",
    "\n",
    "model = LinearRegression()\n",
    "model.fit(X,Y)\n",
    "\n",
    "Y_predict = model.predict(X)\n",
    "\n",
    "plt.plot(X,Y_predict)\n",
    "plt.xlabel(\"RM\")\n",
    "plt.ylabel(\"MEDV\")\n",
    "plt.title(\"MEDV vs RM\")\n",
    "\n",
    "plt.scatter(X,Y,color='red')"
   ]
  },
  {
   "cell_type": "markdown",
   "id": "aba0cafe",
   "metadata": {},
   "source": [
    "### 5. Fitting a polynomial(2nd, 3rd,4th and 5th Degree) "
   ]
  },
  {
   "cell_type": "code",
   "execution_count": 19,
   "id": "162a4f09",
   "metadata": {},
   "outputs": [],
   "source": [
    "# 4. Fit Polynomial\n",
    "## 2nd degree\n",
    "from sklearn.preprocessing import PolynomialFeatures\n",
    "\n",
    "poly2 = PolynomialFeatures(degree=2)\n",
    "\n",
    "X_poly2 = poly2.fit_transform(X.reshape(-1,1))\n",
    "\n",
    "model2 = LinearRegression()\n",
    "model2.fit(X_poly2,Y)\n",
    "\n",
    "Y_predicted = model2.predict(X_poly2)"
   ]
  },
  {
   "cell_type": "code",
   "execution_count": 13,
   "id": "1df2b987",
   "metadata": {
    "scrolled": false
   },
   "outputs": [
    {
     "data": {
      "text/plain": [
       "array([[ 1.      ,  6.575   , 43.230625],\n",
       "       [ 1.      ,  6.421   , 41.229241],\n",
       "       [ 1.      ,  7.185   , 51.624225],\n",
       "       ...,\n",
       "       [ 1.      ,  6.976   , 48.664576],\n",
       "       [ 1.      ,  6.794   , 46.158436],\n",
       "       [ 1.      ,  6.03    , 36.3609  ]])"
      ]
     },
     "execution_count": 13,
     "metadata": {},
     "output_type": "execute_result"
    }
   ],
   "source": [
    "X_poly2"
   ]
  },
  {
   "cell_type": "code",
   "execution_count": 14,
   "id": "5a8242dd",
   "metadata": {
    "scrolled": true
   },
   "outputs": [
    {
     "data": {
      "text/plain": [
       "506"
      ]
     },
     "execution_count": 14,
     "metadata": {},
     "output_type": "execute_result"
    }
   ],
   "source": [
    "Y_predicted.size"
   ]
  },
  {
   "cell_type": "code",
   "execution_count": 15,
   "id": "f3be8f0b",
   "metadata": {
    "scrolled": true
   },
   "outputs": [
    {
     "data": {
      "text/plain": [
       "506"
      ]
     },
     "execution_count": 15,
     "metadata": {},
     "output_type": "execute_result"
    }
   ],
   "source": [
    "X.size"
   ]
  },
  {
   "cell_type": "code",
   "execution_count": 20,
   "id": "ff79814e",
   "metadata": {},
   "outputs": [
    {
     "data": {
      "image/png": "[encoded data removed]",
      "text/plain": [
       "<Figure size 720x432 with 1 Axes>"
      ]
     },
     "metadata": {
      "needs_background": "light"
     },
     "output_type": "display_data"
    }
   ],
   "source": [
    "plt.figure(figsize=(10,6))\n",
    "plt.title(\"2nd Degree Polynomial:\", size=16)\n",
    "plt.scatter(X,Y)\n",
    "plt.plot(X,Y_predicted,c=\"red\")# use scatter instead\n",
    "plt.show()"
   ]
  },
  {
   "cell_type": "code",
   "execution_count": 17,
   "id": "37386941",
   "metadata": {},
   "outputs": [],
   "source": [
    "## 3rd Degree\n",
    "poly3 = PolynomialFeatures(degree=3)\n",
    "\n",
    "poly_features = poly3.fit_transform(X.reshape(-1,1))\n",
    "\n",
    "from sklearn.linear_model import LinearRegression\n",
    "poly_reg_model = LinearRegression()\n",
    "poly_reg_model.fit(poly_features,Y)\n",
    "Y_predicted = poly_reg_model.predict(poly_features)"
   ]
  },
  {
   "cell_type": "code",
   "execution_count": 18,
   "id": "7f8e97af",
   "metadata": {
    "scrolled": false
   },
   "outputs": [
    {
     "data": {
      "image/png": "[encoded data removed]",
      "text/plain": [
       "<Figure size 720x432 with 1 Axes>"
      ]
     },
     "metadata": {
      "needs_background": "light"
     },
     "output_type": "display_data"
    }
   ],
   "source": [
    "plt.figure(figsize=(10,6))\n",
    "plt.title(\"3rd Degree Polynomial:\", size=16)\n",
    "plt.scatter(X,Y)\n",
    "plt.plot(X,Y_predicted,c=\"red\")\n",
    "plt.show()"
   ]
  },
  {
   "cell_type": "code",
   "execution_count": 19,
   "id": "901852a4",
   "metadata": {},
   "outputs": [],
   "source": [
    "## 4th Degree\n",
    "poly4 = PolynomialFeatures(degree=4)\n",
    "\n",
    "poly_features = poly4.fit_transform(X.reshape(-1,1))\n",
    "\n",
    "from sklearn.linear_model import LinearRegression\n",
    "poly_reg_model = LinearRegression()\n",
    "poly_reg_model.fit(poly_features,Y)\n",
    "Y_predicted = poly_reg_model.predict(poly_features)"
   ]
  },
  {
   "cell_type": "code",
   "execution_count": 20,
   "id": "2473e690",
   "metadata": {},
   "outputs": [
    {
     "data": {
      "image/png": "[encoded data removed]",
      "text/plain": [
       "<Figure size 720x432 with 1 Axes>"
      ]
     },
     "metadata": {
      "needs_background": "light"
     },
     "output_type": "display_data"
    }
   ],
   "source": [
    "plt.figure(figsize=(10,6))\n",
    "plt.title(\"4th Degree Polynomial:\", size=16)\n",
    "plt.scatter(X,Y)\n",
    "plt.plot(X,Y_predicted,c=\"red\")\n",
    "plt.show()"
   ]
  },
  {
   "cell_type": "code",
   "execution_count": 21,
   "id": "c25f956d",
   "metadata": {},
   "outputs": [],
   "source": [
    "## 5th Degree\n",
    "poly5 = PolynomialFeatures(degree=5)\n",
    "\n",
    "poly_features = poly5.fit_transform(X.reshape(-1,1))\n",
    "\n",
    "from sklearn.linear_model import LinearRegression\n",
    "poly_reg_model = LinearRegression()\n",
    "poly_reg_model.fit(poly_features,Y)\n",
    "Y_predicted = poly_reg_model.predict(poly_features)"
   ]
  },
  {
   "cell_type": "code",
   "execution_count": 22,
   "id": "884c5e8b",
   "metadata": {
    "scrolled": false
   },
   "outputs": [
    {
     "data": {
      "image/png": "[encoded data removed]",
      "text/plain": [
       "<Figure size 720x432 with 1 Axes>"
      ]
     },
     "metadata": {
      "needs_background": "light"
     },
     "output_type": "display_data"
    }
   ],
   "source": [
    "plt.figure(figsize=(10,6))\n",
    "plt.title(\"5th Degree Polynomial:\", size=16)\n",
    "plt.scatter(X,Y)\n",
    "plt.plot(X,Y_predicted,c=\"red\")\n",
    "plt.show()"
   ]
  },
  {
   "cell_type": "markdown",
   "id": "b33a33c2",
   "metadata": {},
   "source": [
    "### 6. Observation"
   ]
  },
  {
   "cell_type": "markdown",
   "id": "0ebda6d4",
   "metadata": {},
   "source": [
    "#### As shown above, linear regression(1st degreee) already provides a pretty good fit for both datasets"
   ]
  },
  {
   "cell_type": "markdown",
   "id": "4472abc7",
   "metadata": {},
   "source": [
    "#### Furthermore, we split the dataset into two: training set and testing set, and try to fit the curve again to see whether our result is generalized and prone to overfitting."
   ]
  },
  {
   "cell_type": "code",
   "execution_count": 24,
   "id": "0cc784a7",
   "metadata": {},
   "outputs": [],
   "source": [
    "# imports\n",
    "import pandas as pd\n",
    "from sklearn.model_selection import train_test_split\n",
    "from matplotlib import pyplot as plt"
   ]
  },
  {
   "cell_type": "code",
   "execution_count": 26,
   "id": "b6b451bb",
   "metadata": {},
   "outputs": [
    {
     "data": {
      "text/plain": [
       "array([[6.849],\n",
       "       [6.31 ],\n",
       "       [6.266],\n",
       "       [6.43 ],\n",
       "       [7.333],\n",
       "       [5.987],\n",
       "       [7.929],\n",
       "       [6.345],\n",
       "       [5.88 ],\n",
       "       [6.03 ],\n",
       "       [6.023],\n",
       "       [6.715],\n",
       "       [5.895],\n",
       "       [6.487],\n",
       "       [5.036],\n",
       "       [6.812],\n",
       "       [5.981],\n",
       "       [6.208],\n",
       "       [6.312],\n",
       "       [6.153],\n",
       "       [5.972],\n",
       "       [7.802],\n",
       "       [6.976],\n",
       "       [5.783],\n",
       "       [6.727],\n",
       "       [5.593],\n",
       "       [6.438],\n",
       "       [6.54 ],\n",
       "       [3.561],\n",
       "       [5.759],\n",
       "       [6.185],\n",
       "       [7.206],\n",
       "       [5.851],\n",
       "       [6.142],\n",
       "       [5.998],\n",
       "       [6.481],\n",
       "       [6.794],\n",
       "       [6.004],\n",
       "       [6.683],\n",
       "       [7.185],\n",
       "       [6.164],\n",
       "       [6.108],\n",
       "       [6.02 ],\n",
       "       [6.113],\n",
       "       [7.241],\n",
       "       [6.957],\n",
       "       [7.52 ],\n",
       "       [6.8  ],\n",
       "       [6.167],\n",
       "       [6.833],\n",
       "       [5.412],\n",
       "       [6.425],\n",
       "       [6.14 ],\n",
       "       [5.803],\n",
       "       [5.572],\n",
       "       [6.484],\n",
       "       [6.674],\n",
       "       [4.628],\n",
       "       [7.274],\n",
       "       [5.362],\n",
       "       [6.167],\n",
       "       [5.875],\n",
       "       [6.137],\n",
       "       [4.652],\n",
       "       [5.093],\n",
       "       [6.739],\n",
       "       [5.304],\n",
       "       [5.453],\n",
       "       [7.412],\n",
       "       [6.176],\n",
       "       [6.51 ],\n",
       "       [6.38 ],\n",
       "       [6.879],\n",
       "       [6.326],\n",
       "       [6.209],\n",
       "       [6.442],\n",
       "       [6.631],\n",
       "       [6.471],\n",
       "       [6.069],\n",
       "       [5.731],\n",
       "       [8.725],\n",
       "       [6.162],\n",
       "       [8.266],\n",
       "       [7.327],\n",
       "       [7.691],\n",
       "       [6.655],\n",
       "       [7.416],\n",
       "       [6.619],\n",
       "       [6.606],\n",
       "       [7.014],\n",
       "       [6.302],\n",
       "       [5.727],\n",
       "       [5.693],\n",
       "       [6.398],\n",
       "       [6.426],\n",
       "       [6.434],\n",
       "       [6.595],\n",
       "       [5.565],\n",
       "       [5.924],\n",
       "       [5.762],\n",
       "       [5.627],\n",
       "       [6.145],\n",
       "       [6.081],\n",
       "       [5.597],\n",
       "       [6.358],\n",
       "       [7.041],\n",
       "       [6.373],\n",
       "       [6.317],\n",
       "       [6.12 ],\n",
       "       [6.027],\n",
       "       [6.453],\n",
       "       [6.642],\n",
       "       [6.696],\n",
       "       [5.186],\n",
       "       [5.349],\n",
       "       [5.713],\n",
       "       [6.286],\n",
       "       [6.77 ],\n",
       "       [6.546],\n",
       "       [7.42 ],\n",
       "       [6.98 ],\n",
       "       [5.976],\n",
       "       [7.107],\n",
       "       [6.251],\n",
       "       [5.983],\n",
       "       [6.326],\n",
       "       [5.926],\n",
       "       [6.193],\n",
       "       [5.637],\n",
       "       [6.004],\n",
       "       [6.437],\n",
       "       [6.433],\n",
       "       [5.852],\n",
       "       [5.344],\n",
       "       [6.871],\n",
       "       [6.49 ],\n",
       "       [5.67 ],\n",
       "       [6.461],\n",
       "       [5.856],\n",
       "       [6.718],\n",
       "       [6.431],\n",
       "       [4.906],\n",
       "       [6.25 ],\n",
       "       [4.88 ],\n",
       "       [7.079],\n",
       "       [5.427],\n",
       "       [5.155],\n",
       "       [6.538],\n",
       "       [6.229],\n",
       "       [6.182],\n",
       "       [8.04 ],\n",
       "       [6.75 ],\n",
       "       [6.254],\n",
       "       [8.398],\n",
       "       [8.259],\n",
       "       [6.649],\n",
       "       [6.897],\n",
       "       [5.841],\n",
       "       [8.034],\n",
       "       [5.92 ],\n",
       "       [5.879],\n",
       "       [7.82 ],\n",
       "       [5.304],\n",
       "       [5.782],\n",
       "       [5.884],\n",
       "       [5.536],\n",
       "       [5.569],\n",
       "       [5.966],\n",
       "       [5.871],\n",
       "       [6.951],\n",
       "       [5.604],\n",
       "       [5.966],\n",
       "       [6.127],\n",
       "       [5.813],\n",
       "       [5.818],\n",
       "       [6.826],\n",
       "       [6.474],\n",
       "       [6.341],\n",
       "       [5.99 ],\n",
       "       [6.279],\n",
       "       [5.965],\n",
       "       [6.794],\n",
       "       [5.648],\n",
       "       [5.757],\n",
       "       [5.794],\n",
       "       [6.874],\n",
       "       [7.645],\n",
       "       [5.868],\n",
       "       [7.016],\n",
       "       [5.876],\n",
       "       [6.096],\n",
       "       [7.236],\n",
       "       [6.59 ],\n",
       "       [6.174],\n",
       "       [6.975],\n",
       "       [6.216],\n",
       "       [6.459],\n",
       "       [4.963],\n",
       "       [6.411],\n",
       "       [5.856],\n",
       "       [6.816],\n",
       "       [5.012],\n",
       "       [6.861],\n",
       "       [5.706],\n",
       "       [5.942],\n",
       "       [6.083],\n",
       "       [6.604],\n",
       "       [5.837],\n",
       "       [6.072],\n",
       "       [6.092],\n",
       "       [6.372],\n",
       "       [6.086],\n",
       "       [5.905],\n",
       "       [5.757],\n",
       "       [6.635],\n",
       "       [6.066],\n",
       "       [6.047],\n",
       "       [5.663],\n",
       "       [6.567],\n",
       "       [5.277],\n",
       "       [5.747],\n",
       "       [6.852],\n",
       "       [5.599],\n",
       "       [6.095],\n",
       "       [6.151],\n",
       "       [5.888],\n",
       "       [6.059],\n",
       "       [4.926],\n",
       "       [5.56 ],\n",
       "       [6.405],\n",
       "       [5.57 ],\n",
       "       [6.982],\n",
       "       [6.421],\n",
       "       [6.726],\n",
       "       [6.728],\n",
       "       [8.78 ],\n",
       "       [5.272],\n",
       "       [6.122],\n",
       "       [5.707],\n",
       "       [7.454],\n",
       "       [5.39 ],\n",
       "       [6.417],\n",
       "       [5.885],\n",
       "       [5.854],\n",
       "       [6.343],\n",
       "       [5.713],\n",
       "       [6.376],\n",
       "       [5.404],\n",
       "       [6.13 ],\n",
       "       [7.249],\n",
       "       [6.167],\n",
       "       [5.834],\n",
       "       [6.015],\n",
       "       [7.923],\n",
       "       [6.701],\n",
       "       [6.312],\n",
       "       [6.041],\n",
       "       [5.531],\n",
       "       [6.781],\n",
       "       [6.454],\n",
       "       [6.114],\n",
       "       [6.29 ],\n",
       "       [6.162],\n",
       "       [6.003],\n",
       "       [6.513],\n",
       "       [6.951],\n",
       "       [7.148],\n",
       "       [7.313],\n",
       "       [5.87 ],\n",
       "       [5.787],\n",
       "       [5.878],\n",
       "       [6.417],\n",
       "       [6.273],\n",
       "       [5.859],\n",
       "       [5.   ],\n",
       "       [6.565],\n",
       "       [6.38 ],\n",
       "       [6.185],\n",
       "       [7.203],\n",
       "       [7.61 ],\n",
       "       [6.758],\n",
       "       [5.949],\n",
       "       [6.842],\n",
       "       [5.891],\n",
       "       [6.749],\n",
       "       [6.211],\n",
       "       [8.337],\n",
       "       [6.511],\n",
       "       [5.705],\n",
       "       [7.088],\n",
       "       [7.686],\n",
       "       [5.682],\n",
       "       [6.402],\n",
       "       [8.375],\n",
       "       [6.968],\n",
       "       [4.138],\n",
       "       [6.376],\n",
       "       [7.358],\n",
       "       [3.863],\n",
       "       [6.101],\n",
       "       [5.961],\n",
       "       [6.482],\n",
       "       [6.389],\n",
       "       [6.629],\n",
       "       [5.628],\n",
       "       [6.593],\n",
       "       [7.104],\n",
       "       [6.405],\n",
       "       [6.03 ],\n",
       "       [6.678],\n",
       "       [5.605],\n",
       "       [6.98 ],\n",
       "       [5.933],\n",
       "       [6.226],\n",
       "       [6.625],\n",
       "       [5.935],\n",
       "       [6.618],\n",
       "       [5.786],\n",
       "       [6.563],\n",
       "       [5.888],\n",
       "       [5.874],\n",
       "       [6.998],\n",
       "       [6.377],\n",
       "       [5.914],\n",
       "       [8.704],\n",
       "       [6.943],\n",
       "       [5.926],\n",
       "       [7.163],\n",
       "       [6.728],\n",
       "       [6.012],\n",
       "       [6.112],\n",
       "       [5.613],\n",
       "       [4.97 ],\n",
       "       [5.602],\n",
       "       [6.251],\n",
       "       [6.172],\n",
       "       [6.009],\n",
       "       [6.431],\n",
       "       [5.701],\n",
       "       [6.127],\n",
       "       [6.556],\n",
       "       [5.952],\n",
       "       [5.983],\n",
       "       [7.393],\n",
       "       [5.836],\n",
       "       [6.014],\n",
       "       [6.545],\n",
       "       [6.031],\n",
       "       [6.579],\n",
       "       [5.927],\n",
       "       [7.47 ],\n",
       "       [5.936],\n",
       "       [8.297],\n",
       "       [6.575],\n",
       "       [6.415],\n",
       "       [7.267],\n",
       "       [6.417],\n",
       "       [7.82 ],\n",
       "       [6.405],\n",
       "       [5.52 ],\n",
       "       [6.219],\n",
       "       [6.152],\n",
       "       [6.316],\n",
       "       [7.024],\n",
       "       [6.009],\n",
       "       [5.857],\n",
       "       [5.898],\n",
       "       [5.961],\n",
       "       [6.854],\n",
       "       [5.713],\n",
       "       [5.957],\n",
       "       [5.951],\n",
       "       [5.869],\n",
       "       [6.169],\n",
       "       [4.368],\n",
       "       [6.404],\n",
       "       [6.406],\n",
       "       [5.454],\n",
       "       [6.223],\n",
       "       [6.051],\n",
       "       [6.382],\n",
       "       [6.037],\n",
       "       [5.019],\n",
       "       [6.549],\n",
       "       [6.229],\n",
       "       [6.315],\n",
       "       [5.913],\n",
       "       [5.822],\n",
       "       [4.973],\n",
       "       [5.854],\n",
       "       [6.315],\n",
       "       [6.393],\n",
       "       [6.064],\n",
       "       [6.212],\n",
       "       [5.85 ],\n",
       "       [6.657],\n",
       "       [6.152],\n",
       "       [6.115],\n",
       "       [6.103],\n",
       "       [6.121],\n",
       "       [6.319],\n",
       "       [7.765],\n",
       "       [5.985],\n",
       "       [5.968]])"
      ]
     },
     "execution_count": 26,
     "metadata": {},
     "output_type": "execute_result"
    }
   ],
   "source": [
    "x_train, x_test,y_train,y_test = train_test_split(X,Y,test_size =0.2)\n",
    "# print the data\n",
    "x_train"
   ]
  },
  {
   "cell_type": "code",
   "execution_count": 35,
   "id": "90bd06d6",
   "metadata": {
    "scrolled": true
   },
   "outputs": [],
   "source": [
    "from sklearn.linear_model import LinearRegression\n",
    "model_split = LinearRegression()\n",
    "model_split.fit(x_train,y_train)\n",
    "model_split.score(x_test,y_test)\n",
    "Y_predict = model_split.predict(x_test)"
   ]
  },
  {
   "cell_type": "code",
   "execution_count": 40,
   "id": "943111b6",
   "metadata": {
    "scrolled": true
   },
   "outputs": [
    {
     "data": {
      "image/png": "[encoded data removed]",
      "text/plain": [
       "<Figure size 720x432 with 1 Axes>"
      ]
     },
     "metadata": {
      "needs_background": "light"
     },
     "output_type": "display_data"
    }
   ],
   "source": [
    "plt.figure(figsize=(10,6))\n",
    "plt.title(\"Training dataset:\", size=16)\n",
    "plt.scatter(x_train,y_train)\n",
    "\n",
    "Y_predicted = model_split.predict(x_train)\n",
    "plt.plot(x_train,Y_predicted,c=\"red\")\n",
    "plt.show()"
   ]
  },
  {
   "cell_type": "code",
   "execution_count": 41,
   "id": "55a4fcab",
   "metadata": {
    "scrolled": false
   },
   "outputs": [
    {
     "data": {
      "image/png": "[encoded data removed]",
      "text/plain": [
       "<Figure size 720x432 with 1 Axes>"
      ]
     },
     "metadata": {
      "needs_background": "light"
     },
     "output_type": "display_data"
    }
   ],
   "source": [
    "plt.figure(figsize=(10,6))\n",
    "plt.title(\"Testing Dataset:\", size=16)\n",
    "plt.scatter(x_test,y_test)\n",
    "plt.plot(x_test,Y_predict,c=\"red\")\n",
    "plt.show()"
   ]
  },
  {
   "cell_type": "markdown",
   "id": "fde8c0c9",
   "metadata": {},
   "source": [
    "### 7. Conclusion"
   ]
  },
  {
   "cell_type": "markdown",
   "id": "076c84aa",
   "metadata": {},
   "source": [
    "# As shown above, the 1st degree linear regression here provides a pretty good fit for both datasets.\n",
    "## Thus, we conclude that: there exists a linear relationship between Housing Prices and Average number of Rooms per dwelling"
   ]
  }
 ],
 "metadata": {
  "kernelspec": {
   "display_name": "Python 3 (ipykernel)",
   "language": "python",
   "name": "python3"
  },
  "language_info": {
   "codemirror_mode": {
    "name": "ipython",
    "version": 3
   },
   "file_extension": ".py",
   "mimetype": "text/x-python",
   "name": "python",
   "nbconvert_exporter": "python",
   "pygments_lexer": "ipython3",
   "version": "3.9.7"
  }
 },
 "nbformat": 4,
 "nbformat_minor": 5
}
